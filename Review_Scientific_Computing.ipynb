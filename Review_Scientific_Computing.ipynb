{
  "cells": [
    {
      "cell_type": "markdown",
      "metadata": {
        "id": "5GKwDL1wNXLO"
      },
      "source": [
        "GAUSS SEIDEL"
      ]
    },
    {
      "cell_type": "code",
      "execution_count": 1,
      "metadata": {
        "id": "aY-hycZzIrmb"
      },
      "outputs": [],
      "source": [
        "import numpy as np"
      ]
    },
    {
      "cell_type": "code",
      "execution_count": 2,
      "metadata": {
        "id": "Or8nkUOZJui-"
      },
      "outputs": [],
      "source": [
        "Xs = [\n",
        "    [\n",
        "        [4 , 2, -1],\n",
        "        [1, -5, 2],\n",
        "        [2, -1, -4]\n",
        "    ],\n",
        "    [\n",
        "        [3, 4, 5],\n",
        "        [-3, 7, -4],\n",
        "        [1, -4, -2]\n",
        "    ],\n",
        "    [\n",
        "        [9, -2, 3, -2],\n",
        "        [2, 8, -2, 3],\n",
        "        [-3, 2, 11, -4],\n",
        "        [-2, 3, 2, 10]\n",
        "    ]\n",
        "]\n",
        "\n",
        "Ys = [\n",
        "    [41, -10, 1],\n",
        "    [34, -32, 62],\n",
        "    [55, -14, 12, -21]\n",
        "]"
      ]
    },
    {
      "cell_type": "code",
      "execution_count": 3,
      "metadata": {
        "id": "Ny8_-turJxtl"
      },
      "outputs": [],
      "source": [
        "def is_diagonally_dominant(x):\n",
        "  x = np.array(x)\n",
        "  x_abs = np.abs(x)\n",
        "  diag = np.array(np.diag(x_abs))\n",
        "\n",
        "  np.fill_diagonal(x_abs, 0)\n",
        "  sum_diag = np.sum(x_abs, axis = 1)\n",
        "\n",
        "  return np.all(diag > sum_diag)"
      ]
    },
    {
      "cell_type": "code",
      "execution_count": 4,
      "metadata": {
        "id": "EBrzgZVCNcWD"
      },
      "outputs": [],
      "source": [
        "def gauss_seidel(x, y, error=0.01):\n",
        "  if not is_diagonally_dominant(x):\n",
        "    print(\"Matrix is not diagonally dominant\")\n",
        "    return\n",
        "\n",
        "  x = np.array(x)\n",
        "  y = np.array(y)\n",
        "\n",
        "  diag = np.array(np.diag(x))\n",
        "  np.fill_diagonal(x, 0)\n",
        "\n",
        "  res = np.zeros(diag.shape)\n",
        "  max = 100\n",
        "\n",
        "  for iter in range(max):\n",
        "    res_new = np.array(res)\n",
        "\n",
        "    for idx, row in enumerate(x):\n",
        "      res_new[idx] = (y[idx]-(np.dot(row,res_new)))/diag[idx]\n",
        "\n",
        "    print(f\"Iteration {iter}: {res_new}\")\n",
        "\n",
        "    diff = np.sqrt(np.dot(res_new - res, res_new - res))\n",
        "    if(diff<error):\n",
        "      print(\"Answer: \", res_new)\n",
        "      return\n",
        "\n",
        "    res = res_new"
      ]
    },
    {
      "cell_type": "code",
      "execution_count": 5,
      "metadata": {
        "colab": {
          "base_uri": "https://localhost:8080/"
        },
        "id": "3SWsO1OYUt4r",
        "outputId": "738f3c0d-9544-4469-a85f-8737b580e5eb"
      },
      "outputs": [
        {
          "name": "stdout",
          "output_type": "stream",
          "text": [
            "Iteration 0: [15.125       7.39285714  5.38244048]\n",
            "Iteration 1: [11.00706845  6.26264881  4.54132564]\n",
            "Iteration 2: [11.64117529  6.44195321  4.66996829]\n",
            "Iteration 3: [11.54177547  6.4152206   4.64957377]\n",
            "Iteration 4: [11.55689883  6.41964015  4.65261802]\n",
            "Iteration 5: [11.55448044  6.41902644  4.6521157 ]\n",
            "Answer:  [11.55448044  6.41902644  4.6521157 ]\n"
          ]
        }
      ],
      "source": [
        "x =[[8, 3, 2],[2, 7, 3],[-3, 2, 12]]\n",
        "y =[121, 82, 34]\n",
        "\n",
        "gauss_seidel(x, y)"
      ]
    },
    {
      "cell_type": "markdown",
      "metadata": {
        "id": "eDCAD44hU_yI"
      },
      "source": [
        "Least Square Regression"
      ]
    },
    {
      "cell_type": "code",
      "execution_count": 6,
      "metadata": {
        "id": "9sM7wnhGVC7i"
      },
      "outputs": [],
      "source": [
        "import matplotlib.pyplot as plt"
      ]
    },
    {
      "cell_type": "code",
      "execution_count": 7,
      "metadata": {
        "id": "mVR0QxeBVIpq"
      },
      "outputs": [],
      "source": [
        "x = [\n",
        "0.667257363,\n",
        "1.163272104,\n",
        "2.059775843,\n",
        "3.026043396,\n",
        "3.823459252,\n",
        "4.237522149,\n",
        "5.175051771,\n",
        "5.274506600,\n",
        "6.244287409,\n",
        "6.542814643,\n",
        "7.055059567,\n",
        "7.390116752,\n",
        "8.288971198,\n",
        "8.579231789,\n",
        "9.210386935,\n",
        "9.620823117,\n",
        "10.25700941,\n",
        "10.89194207,\n",
        "11.21369076,\n",
        "11.41558731,\n",
        "11.84950537,\n",
        "12.41654640,\n",
        "13.07341967,\n",
        "13.93756043,\n",
        "13.96383483,\n",
        "14.49473702,\n",
        "14.90972704,\n",
        "15.07248603,\n",
        "15.79685930,\n",
        "16.65678362,\n",
        "17.30883901,\n",
        "17.35006975,\n",
        "17.58938929,\n",
        "17.79778379,\n",
        "18.00169342,\n",
        "18.48060630,\n",
        "18.71248139,\n",
        "19.11376774,\n",
        "19.39409803,\n",
        "19.74650750,\n",
        "20.74546216,\n",
        "21.01455518,\n",
        "21.69457689,\n",
        "22.33519718,\n",
        "23.26208851,\n",
        "23.97298783,\n",
        "24.60252331,\n",
        "25.28542718,\n",
        "25.36556687,\n",
        "25.43342769,\n",
        "]\n",
        "y = [\n",
        "69.61612841,\n",
        "70.31009462,\n",
        "70.52967130,\n",
        "70.69226554,\n",
        "71.26272117,\n",
        "72.19410464,\n",
        "72.75925445,\n",
        "73.48095621,\n",
        "74.32835598,\n",
        "75.00604086,\n",
        "75.81053537,\n",
        "76.18342777,\n",
        "76.26701376,\n",
        "76.88125364,\n",
        "76.88850065,\n",
        "77.20628611,\n",
        "77.99029850,\n",
        "78.41087441,\n",
        "79.33575636,\n",
        "79.98614235,\n",
        "80.62260103,\n",
        "81.46225811,\n",
        "81.97599388,\n",
        "82.40526228,\n",
        "82.75687635,\n",
        "83.19695143,\n",
        "83.22854080,\n",
        "84.05539698,\n",
        "84.18519963,\n",
        "84.20141506,\n",
        "84.96388936,\n",
        "85.96117288,\n",
        "86.20746789,\n",
        "86.59131925,\n",
        "87.14506062,\n",
        "87.80712240,\n",
        "88.51922370,\n",
        "88.82890416,\n",
        "89.52846481,\n",
        "90.37898232,\n",
        "90.98286205,\n",
        "91.47855750,\n",
        "91.71240983,\n",
        "91.87073017,\n",
        "91.94818226,\n",
        "92.59044238,\n",
        "93.44106750,\n",
        "93.50315021,\n",
        "94.20888309,\n",
        "94.39807859,\n",
        "]"
      ]
    },
    {
      "cell_type": "code",
      "execution_count": 8,
      "metadata": {
        "id": "g1JyRzRiVMSx"
      },
      "outputs": [],
      "source": [
        "x = np.array(x)\n",
        "y = np.array(y)\n",
        "\n",
        "A = np.vstack([x, np.ones(len(x))]).T\n",
        "Y = y[:, np.newaxis]\n",
        "\n",
        "A_pinv = np.linalg.pinv(A)\n",
        "inv = np.dot(A_pinv, Y)"
      ]
    },
    {
      "cell_type": "code",
      "execution_count": 9,
      "metadata": {
        "colab": {
          "base_uri": "https://localhost:8080/",
          "height": 430
        },
        "id": "Sg_H0wGRXie7",
        "outputId": "5afdb93f-3c7c-4055-b14a-5aa817ea2a4b"
      },
      "outputs": [
        {
          "data": {
            "image/png": "[encoded data removed]",
            "text/plain": [
              "<Figure size 640x480 with 1 Axes>"
            ]
          },
          "metadata": {},
          "output_type": "display_data"
        }
      ],
      "source": [
        "plt.plot(x, y, \"o\")\n",
        "plt.plot(x, inv[0]*x + inv[1])\n",
        "plt.legend([\"Coordinate\", \"Regression Line\"])\n",
        "plt.show()"
      ]
    },
    {
      "cell_type": "markdown",
      "metadata": {
        "id": "70GPOLCCxion"
      },
      "source": [
        "NEWTON RAPHSON"
      ]
    },
    {
      "cell_type": "code",
      "execution_count": 10,
      "metadata": {
        "colab": {
          "base_uri": "https://localhost:8080/"
        },
        "id": "dNbtmDT3xkun",
        "outputId": "58fceb3e-9038-4584-839f-2e38dc7956a6"
      },
      "outputs": [
        {
          "name": "stdout",
          "output_type": "stream",
          "text": [
            "Iteration 0: -0.5\n",
            "Iteration 1: -1.1428571428571428\n",
            "Iteration 2: -0.9531615925058545\n",
            "Iteration 3: -0.9982602315126992\n",
            "Iteration 4: -0.9999969994031928\n",
            "root is found at -0.9999969994031928\n"
          ]
        }
      ],
      "source": [
        "def f(x):\n",
        "  return 3*x**3 + 7*x**2 + 3*x - 1\n",
        "\n",
        "def g(x):\n",
        "  return 9*x**2 + 14*x + 3\n",
        "\n",
        "def newton_raphson(x0, iter, error = 0.001, max = 100):\n",
        "  if iter >= max:\n",
        "    print(\"max iteration has been reached\")\n",
        "    return\n",
        "\n",
        "  x1 = x0 - f(x0)/g(x0)\n",
        "  print(f\"Iteration {iter}: {x1}\")\n",
        "\n",
        "\n",
        "  if np.abs(f(x1)) <= error:\n",
        "    print(f\"root is found at {x1}\")\n",
        "    return\n",
        "\n",
        "  newton_raphson(x1, iter+1)\n",
        "\n",
        "newton_raphson(-1.25, 0)"
      ]
    },
    {
      "cell_type": "markdown",
      "metadata": {
        "id": "oDEp9I2Y0zY3"
      },
      "source": [
        "INTEGRAL RIEMMAN"
      ]
    },
    {
      "cell_type": "code",
      "execution_count": 11,
      "metadata": {
        "colab": {
          "base_uri": "https://localhost:8080/"
        },
        "id": "DsOootQR0mXS",
        "outputId": "4d26c243-a7d1-42d8-840d-75589b206836"
      },
      "outputs": [],
      "source": [
        "def f(x):\n",
        "  return 2*x**2 - 7*x - 8\n",
        "\n",
        "n = 4\n",
        "x_left = 0\n",
        "x_right = 8\n",
        "\n",
        "space = np.linspace(x_left, x_right, n)\n",
        "width = space[1] - space[0]"
      ]
    },
    {
      "cell_type": "code",
      "execution_count": 12,
      "metadata": {
        "id": "jrLv_eBSMDFU"
      },
      "outputs": [],
      "source": [
        "#left riemman\n",
        "area = width*np.sum(f(space[0:n-1]))\n",
        "\n",
        "#right riemman\n",
        "area = width*np.sum(f(space[1:n]))\n",
        "\n",
        "#mid riemman\n",
        "x_mid = (space[0:n-1] + space[1:n])/2\n",
        "area = width*np.sum(f(x_mid))"
      ]
    },
    {
      "cell_type": "code",
      "execution_count": 13,
      "metadata": {
        "id": "fT5coRtMM5bs"
      },
      "outputs": [
        {
          "ename": "TypeError",
          "evalue": "unsupported operand type(s) for ** or pow(): 'list' and 'int'",
          "output_type": "error",
          "traceback": [
            "\u001b[31m---------------------------------------------------------------------------\u001b[39m",
            "\u001b[31mTypeError\u001b[39m                                 Traceback (most recent call last)",
            "\u001b[36mCell\u001b[39m\u001b[36m \u001b[39m\u001b[32mIn[13]\u001b[39m\u001b[32m, line 1\u001b[39m\n\u001b[32m----> \u001b[39m\u001b[32m1\u001b[39m total_sisi = \u001b[43mf\u001b[49m\u001b[43m(\u001b[49m\u001b[43m[\u001b[49m\u001b[32;43m0\u001b[39;49m\u001b[43m]\u001b[49m\u001b[43m)\u001b[49m + f(point_x[n-\u001b[32m1\u001b[39m]) + np.sum(\u001b[32m2\u001b[39m*f(point_x[\u001b[32m1\u001b[39m:n-\u001b[32m1\u001b[39m]))\n\u001b[32m      3\u001b[39m area = width/\u001b[32m2\u001b[39m * total_sisi\n\u001b[32m      4\u001b[39m \u001b[38;5;28mprint\u001b[39m(area)\n",
            "\u001b[36mCell\u001b[39m\u001b[36m \u001b[39m\u001b[32mIn[11]\u001b[39m\u001b[32m, line 2\u001b[39m, in \u001b[36mf\u001b[39m\u001b[34m(x)\u001b[39m\n\u001b[32m      1\u001b[39m \u001b[38;5;28;01mdef\u001b[39;00m\u001b[38;5;250m \u001b[39m\u001b[34mf\u001b[39m(x):\n\u001b[32m----> \u001b[39m\u001b[32m2\u001b[39m   \u001b[38;5;28;01mreturn\u001b[39;00m \u001b[32m2\u001b[39m*\u001b[43mx\u001b[49m\u001b[43m*\u001b[49m\u001b[43m*\u001b[49m\u001b[32;43m2\u001b[39;49m - \u001b[32m7\u001b[39m*x - \u001b[32m8\u001b[39m\n",
            "\u001b[31mTypeError\u001b[39m: unsupported operand type(s) for ** or pow(): 'list' and 'int'"
          ]
        }
      ],
      "source": [
        "total_sisi = f([0]) + f(point_x[n-1]) + np.sum(2*f(point_x[1:n-1]))\n",
        "\n",
        "area = width/2 * total_sisi\n",
        "print(area)"
      ]
    }
  ],
  "metadata": {
    "colab": {
      "provenance": []
    },
    "kernelspec": {
      "display_name": "venv",
      "language": "python",
      "name": "python3"
    },
    "language_info": {
      "codemirror_mode": {
        "name": "ipython",
        "version": 3
      },
      "file_extension": ".py",
      "mimetype": "text/x-python",
      "name": "python",
      "nbconvert_exporter": "python",
      "pygments_lexer": "ipython3",
      "version": "3.11.9"
    }
  },
  "nbformat": 4,
  "nbformat_minor": 0
}
