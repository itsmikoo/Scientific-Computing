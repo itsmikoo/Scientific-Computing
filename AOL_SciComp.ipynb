{
  "cells": [
    {
      "cell_type": "markdown",
      "metadata": {
        "id": "-j0NpMdsIM7j"
      },
      "source": [
        "Name: Kimiko Aurelia\n",
        "NIM: 2802460911"
      ]
    },
    {
      "cell_type": "code",
      "execution_count": 4,
      "metadata": {
        "collapsed": true,
        "id": "iD6UE7Pjp7JL"
      },
      "outputs": [],
      "source": [
        "import numpy as np\n",
        "import pandas as pd\n",
        "import matplotlib.pyplot as plt"
      ]
    },
    {
      "cell_type": "code",
      "execution_count": null,
      "metadata": {},
      "outputs": [],
      "source": [
        "data = pd.read_csv('/aol_data.xlsx')"
      ]
    },
    {
      "cell_type": "code",
      "execution_count": null,
      "metadata": {
        "collapsed": true,
        "id": "SrfrDVhEruSm"
      },
      "outputs": [],
      "source": [
        "y = data.iloc[0, :].values\n",
        "x = np.arange(1, len(y) + 1)\n",
        "\n",
        "model = np.poly1d(np.polyfit(x, y, 4))\n",
        "\n",
        "plt.figure(figsize=(16, 6))\n",
        "plt.scatter(x, y)\n",
        "plt.plot(np.linspace(1, len(y), 100), model(np.linspace(1, len(y), 100)))\n",
        "\n",
        "plt.title(\"Bag Production Trend Over Time \")\n",
        "plt.xlabel(\"Month\")\n",
        "plt.ylabel(\"Production\")\n",
        "\n",
        "plt.show()"
      ]
    },
    {
      "cell_type": "code",
      "execution_count": null,
      "metadata": {
        "colab": {
          "base_uri": "https://localhost:8080/"
        },
        "id": "m4FySYpaSOIL",
        "outputId": "24639a8b-9bab-4590-84fb-7246c225edaf"
      },
      "outputs": [],
      "source": [
        "print(\"Numerical approximation:\")\n",
        "print(model)\n",
        "print(\"\")\n",
        "print(\"\")\n",
        "\n",
        "y_pred = model(x)\n",
        "ssr = np.sum((y - y_pred)**2)\n",
        "sst = np.sum((y - np.mean(y))**2)\n",
        "r2 = 1 - (ssr/sst)\n",
        "print(f\"R² score: {r2:.3f} ({r2 * 100:.2f}%)\")"
      ]
    },
    {
      "cell_type": "code",
      "execution_count": null,
      "metadata": {
        "colab": {
          "base_uri": "https://localhost:8080/"
        },
        "id": "au1meM2hmXT2",
        "outputId": "15b76850-f99b-4e53-c7cb-1551f39070e8"
      },
      "outputs": [],
      "source": [
        "derivative = model.deriv()\n",
        "target = 25000\n",
        "\n",
        "def f(x):\n",
        "  return model(x) - target\n",
        "\n",
        "def g(x):\n",
        "  return derivative(x)\n",
        "\n",
        "def newton_raphson(x0, iter, error = 0.001, max = 100):\n",
        "  if iter >= max:\n",
        "    print(\"Newton-Raphson did not converge.\")\n",
        "    return\n",
        "\n",
        "  x1 = x0 - f(x0)/g(x0)\n",
        "\n",
        "  if np.abs(f(x1)) <= error:\n",
        "    print(f\"Production exceeds 25,000 in month index: {x1:.3f}\")\n",
        "    print(f\"EGIER should start building a new warehouse by month ≈ {x1 - 13:.2f}\")\n",
        "    return\n",
        "\n",
        "  newton_raphson(x1, iter+1)\n",
        "\n",
        "newton_raphson(100, 0)"
      ]
    }
  ],
  "metadata": {
    "colab": {
      "provenance": []
    },
    "kernelspec": {
      "display_name": "Python 3",
      "language": "python",
      "name": "python3"
    },
    "language_info": {
      "codemirror_mode": {
        "name": "ipython",
        "version": 3
      },
      "file_extension": ".py",
      "mimetype": "text/x-python",
      "name": "python",
      "nbconvert_exporter": "python",
      "pygments_lexer": "ipython3",
      "version": "3.11.9"
    }
  },
  "nbformat": 4,
  "nbformat_minor": 0
}
